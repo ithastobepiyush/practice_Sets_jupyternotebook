{
 "cells": [
  {
   "cell_type": "code",
   "execution_count": 19,
   "id": "8fc22aaf",
   "metadata": {},
   "outputs": [
    {
     "name": "stdout",
     "output_type": "stream",
     "text": [
      "945.4499999999999\n"
     ]
    }
   ],
   "source": [
    "price = 24.95\n",
    "discountAppliedPrice = price * 0.60 #discountAppliedPrice for 1 book\n",
    "totalBookPrice = 60*discountAppliedPrice #discountAppliedPrice for 60 books\n",
    "shippingFirst = 3\n",
    "newShipping = shippingFirst + 0.75*59\n",
    "wholeSaleCost = totalBookPrice + newShipping\n",
    "print(wholeSaleCost) "
   ]
  },
  {
   "cell_type": "code",
   "execution_count": null,
   "id": "8c48a3de",
   "metadata": {},
   "outputs": [
    {
     "ename": "AttributeError",
     "evalue": "'dict' object has no attribute 'extend'",
     "output_type": "error",
     "traceback": [
      "\u001b[1;31m---------------------------------------------------------------------------\u001b[0m",
      "\u001b[1;31mAttributeError\u001b[0m                            Traceback (most recent call last)",
      "Cell \u001b[1;32mIn[20], line 14\u001b[0m\n\u001b[0;32m     12\u001b[0m xtring \u001b[38;5;241m=\u001b[39m \u001b[38;5;124m\"\u001b[39m\u001b[38;5;124mMary had a little lamb Little lamb, little lamb Mary had a little lamb.Its fleece was white as snow And everywhere that Mary went Mary went, Mary went Everywhere that Mary went The lamb was sure to go\u001b[39m\u001b[38;5;124m\"\u001b[39m\n\u001b[0;32m     13\u001b[0m tring \u001b[38;5;241m=\u001b[39m {}\n\u001b[1;32m---> 14\u001b[0m \u001b[43mtring\u001b[49m\u001b[38;5;241;43m.\u001b[39;49m\u001b[43mextend\u001b[49m(xtring)\n\u001b[0;32m     15\u001b[0m \u001b[38;5;28;01mdef\u001b[39;00m\u001b[38;5;250m \u001b[39m\u001b[38;5;21mprintDictionary\u001b[39m(tring):\n\u001b[0;32m     16\u001b[0m     \u001b[38;5;28;01mfor\u001b[39;00m key \u001b[38;5;129;01min\u001b[39;00m tring:\n",
      "\u001b[1;31mAttributeError\u001b[0m: 'dict' object has no attribute 'extend'"
     ]
    }
   ],
   "source": [
    "# Write your code below and press Shift+Enter to execute\n",
    "\n",
    "# def freq(string, passedkey):\n",
    "#     words = []\n",
    "#     words = string.split()\n",
    "#     Dict = {}\n",
    "\n",
    "# freq(f\"Mary had a little lamb Little lamb, little lamb Mary had a little lamb.Its fleece was white as snow And everywhere that Mary went Mary went, Mary went Everywhere that Mary went The lamb was sure to go\", \"little\")\n",
    "\n",
    "\n",
    "\n",
    "xtring = \"Mary had a little lamb Little lamb, little lamb Mary had a little lamb.Its fleece was white as snow And everywhere that Mary went Mary went, Mary went Everywhere that Mary went The lamb was sure to go\"\n",
    "words = xtring.split()\n",
    "dictionary = {}\n",
    "def printDictionary(tring):\n",
    "    for key in tring:\n",
    "        print(f\"{key} :\") # all the keys in the args\n",
    "        print(f\"{tring[key]}\") #arguments key value\n",
    "        return 1\n",
    "    printDictionary(xtring)\n",
    "\n",
    "    # for key in words:\n",
    "    #     if(key == passedkey):\n",
    "    #         Dict[key] = words.count(key)\n",
    "    "
   ]
  }
 ],
 "metadata": {
  "kernelspec": {
   "display_name": "Python 3",
   "language": "python",
   "name": "python3"
  },
  "language_info": {
   "codemirror_mode": {
    "name": "ipython",
    "version": 3
   },
   "file_extension": ".py",
   "mimetype": "text/x-python",
   "name": "python",
   "nbconvert_exporter": "python",
   "pygments_lexer": "ipython3",
   "version": "3.10.11"
  }
 },
 "nbformat": 4,
 "nbformat_minor": 5
}
