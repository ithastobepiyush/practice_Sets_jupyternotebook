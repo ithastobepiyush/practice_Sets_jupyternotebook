{
 "cells": [
  {
   "cell_type": "markdown",
   "metadata": {},
   "source": [
    "<h1>Loops in Python</h1>\n"
   ]
  },
  {
   "cell_type": "markdown",
   "metadata": {},
   "source": [
    "<p><strong>Welcome!</strong> This notebook will teach you about the loops in the Python Programming Language. By the end of this lab, you'll know how to use the loop statements in Python, including for loop, and while loop.</p>\n"
   ]
  },
  {
   "cell_type": "markdown",
   "metadata": {},
   "source": [
    "<h2>Table of Contents</h2>\n",
    "<div class=\"alert alert-block alert-info\" style=\"margin-top: 20px\" background-color: white>\n",
    "    <ul>\n",
    "        <li>\n",
    "            <a href=\"#loop\">Loops</a>\n",
    "            <ul>\n",
    "                <li><a href=\"range\">Range</a></li>\n",
    "                <li><a href=\"for\">What is <code>for</code> loop?</a></li>\n",
    "                <li><a href=\"while\">What is <code>while</code> loop?</a></li>\n",
    "            </ul>\n",
    "        </li>\n",
    "        <li>\n",
    "            <a href=\"#quiz\">Quiz on Loops</a>\n",
    "        </li>\n",
    "    </ul>\n",
    "\n",
    "</div>\n",
    "\n",
    "<hr>\n"
   ]
  },
  {
   "cell_type": "markdown",
   "metadata": {},
   "source": [
    "<h2 id=\"loop\">Loops</h2>\n"
   ]
  },
  {
   "cell_type": "markdown",
   "metadata": {},
   "source": [
    "<h3 id=\"range\">Range</h3>\n"
   ]
  },
  {
   "cell_type": "markdown",
   "metadata": {},
   "source": [
    "Sometimes, you might want to repeat a given operation many times. Repeated executions like this are performed by <b>loops</b>. We will look at two types of loops, <code>for</code> loops and <code>while</code> loops.\n",
    "\n",
    "Before we discuss loops lets discuss the <code>range</code> object. It is helpful to think of the range object as an ordered list. For now, let's look at the simplest case. If we would like to generate an object that contains elements ordered from 0 to 2 we simply use the following command:\n"
   ]
  },
  {
   "cell_type": "code",
   "execution_count": 44,
   "metadata": {
    "ExecuteTime": {
     "end_time": "2025-08-31T19:32:46.840853Z",
     "start_time": "2025-08-31T19:32:46.826855Z"
    }
   },
   "outputs": [
    {
     "data": {
      "text/plain": [
       "range(0, 100)"
      ]
     },
     "execution_count": 44,
     "metadata": {},
     "output_type": "execute_result"
    }
   ],
   "source": [
    "# Use the range\n",
    "\n",
    "range(100)"
   ]
  },
  {
   "cell_type": "markdown",
   "metadata": {},
   "source": [
    "<img src=\"https://cf-courses-data.s3.us.cloud-object-storage.appdomain.cloud/IBMDeveloperSkillsNetwork-PY0101EN-SkillsNetwork/labs/Module%203/images/range.PNG\" width=\"300\">\n"
   ]
  },
  {
   "cell_type": "markdown",
   "metadata": {},
   "source": [
    "**_NOTE: While in Python 2.x it returned a list as seen in video lessons, in 3.x it returns a range object._**\n"
   ]
  },
  {
   "cell_type": "markdown",
   "metadata": {},
   "source": [
    "<h3 id=\"for\">What is <code>for</code> loop?</h3>\n"
   ]
  },
  {
   "cell_type": "markdown",
   "metadata": {},
   "source": [
    "The <code>for</code> loop enables you to execute a code block multiple times. For example, you would use this if you would like to print out every element in a list.    \n",
    "Let's try to use a <code>for</code> loop to print all the years presented in the list <code>dates</code>:\n"
   ]
  },
  {
   "cell_type": "markdown",
   "metadata": {},
   "source": [
    "This can be done as follows:\n"
   ]
  },
  {
   "cell_type": "code",
   "execution_count": 45,
   "metadata": {},
   "outputs": [
    {
     "name": "stdout",
     "output_type": "stream",
     "text": [
      "dates range : 1982\n",
      "dates range : 1980\n",
      "dates range : 1973\n",
      "dates range : 1982\n",
      "dates range : 1980\n",
      "dates range : 1973\n",
      "dates range : 1982\n",
      "dates range : 1980\n",
      "dates range : 1973\n",
      "dates range : 1982\n",
      "dates range : 1980\n",
      "dates range : 1973\n",
      "dates range : piyush\n",
      "13\n",
      "<class 'list'>\n",
      "<class 'type'>\n",
      "<class 'int'>\n"
     ]
    }
   ],
   "source": [
    "# For loop example\n",
    "\n",
    "dates = [1982,1980,1973,1982,1980,1973,1982,1980,1973,1982,1980,1973, \"piyush\"]\n",
    "for i in range(len(dates)) : print(f\"dates range : {dates[i]}\")\n",
    "\n",
    "\n",
    "print(len(dates))\n",
    "print(type(dates))\n",
    "print(type(range))\n",
    "print(type(i))\n",
    "# even better approach☝️☝️☝️☝️☝️☝️☝️☝️☝️☝️\n",
    "\n",
    "# dates = [1982,1980,1973,1982,1980,1973,1982,1980,1973,1982,1980,1973, \"piyush\"]\n",
    "# N = len(dates)\n",
    "\n",
    "# for i in range(N):\n",
    "#     print(f\"dates range : {dates[i]}\")\n",
    "# print(len(dates))"
   ]
  },
  {
   "cell_type": "markdown",
   "metadata": {},
   "source": [
    "The code in the indent is executed <code>N</code> times, each time the value of <code>i</code> is increased by 1 for every execution. The statement executed is to <code>print</code> out the value in the list at index <code>i</code> as shown here:\n"
   ]
  },
  {
   "cell_type": "markdown",
   "metadata": {},
   "source": [
    "<img src=\"https://cf-courses-data.s3.us.cloud-object-storage.appdomain.cloud/IBMDeveloperSkillsNetwork-PY0101EN-SkillsNetwork/labs/Module%203/images/LoopsForRange.gif\" width=\"800\">\n"
   ]
  },
  {
   "cell_type": "markdown",
   "metadata": {},
   "source": [
    "In this example we can print out a sequence of numbers from 0 to 7:\n"
   ]
  },
  {
   "cell_type": "code",
   "execution_count": 46,
   "metadata": {},
   "outputs": [
    {
     "name": "stdout",
     "output_type": "stream",
     "text": [
      "rand_num which is generated : 5 random_str : yrfk\n",
      "\n",
      "\n",
      "random ranges/4dgtStrings : (0, 'yrfk')\n",
      "random ranges/4dgtStrings : (1, 'yrfk')\n",
      "random ranges/4dgtStrings : (2, 'yrfk')\n",
      "random ranges/4dgtStrings : (3, 'yrfk')\n",
      "random ranges/4dgtStrings : (4, 'yrfk')\n",
      "random ranges/4dgtStrings : (5, 'yrfk')\n",
      "random ranges/4dgtStrings : (6, 'yrfk')\n",
      "random ranges/4dgtStrings : (7, 'yrfk')\n"
     ]
    }
   ],
   "source": [
    "# Example of for loop\n",
    "\n",
    "import random\n",
    "import string\n",
    "\n",
    "random_str = ''.join(random.choices(string.ascii_letters + string.digits, k=4))\n",
    "\n",
    "rand_num = random.randint(1, 5)\n",
    "\n",
    "print(f\"rand_num which is generated : {rand_num} random_str : {(random_str)}\\n\\n\")\n",
    "for i in range(0,7+1) : print(f\"random ranges/4dgtStrings : {i, random_str}\")\n"
   ]
  },
  {
   "cell_type": "markdown",
   "metadata": {},
   "source": [
    "In Python we can directly access the elements in the list as follows: \n"
   ]
  },
  {
   "cell_type": "code",
   "execution_count": 47,
   "metadata": {},
   "outputs": [
    {
     "name": "stdout",
     "output_type": "stream",
     "text": [
      "1982\n",
      "1980\n",
      "1973\n",
      "1982\n",
      "1980\n",
      "1973\n",
      "1982\n",
      "1980\n",
      "1973\n",
      "1982\n",
      "1980\n",
      "1973\n",
      "piyush\n",
      "[1982, 1980, 1973, 1982, 1980, 1973, 1982, 1980, 1973, 1982, 1980, 1973, 'piyush'] 13\n",
      "piyush\n"
     ]
    },
    {
     "data": {
      "text/plain": [
       "str"
      ]
     },
     "execution_count": 47,
     "metadata": {},
     "output_type": "execute_result"
    }
   ],
   "source": [
    "# Exmaple of for loop, loop through list\n",
    "\n",
    "for year in dates : print(year)\n",
    "\n",
    "\n",
    "print(dates, len(dates))\n",
    "print(year)\n",
    "type(year)"
   ]
  },
  {
   "cell_type": "markdown",
   "metadata": {},
   "source": [
    "For each iteration, the value of the variable <code>year</code> behaves like the value of <code>dates[i]</code> in the  first example:\n"
   ]
  },
  {
   "cell_type": "markdown",
   "metadata": {},
   "source": [
    "<img src=\"https://cf-courses-data.s3.us.cloud-object-storage.appdomain.cloud/IBMDeveloperSkillsNetwork-PY0101EN-SkillsNetwork/labs/Module%203/images/LoopsForList.gif\" width=\"800\">\n"
   ]
  },
  {
   "cell_type": "markdown",
   "metadata": {},
   "source": [
    "We can change the elements in a list:\n"
   ]
  },
  {
   "cell_type": "code",
   "execution_count": 48,
   "metadata": {},
   "outputs": [
    {
     "name": "stdout",
     "output_type": "stream",
     "text": [
      "['red', 'yellow', 'green', 'purple', 'blue'] \n",
      "\n",
      "Before square : 0 - red\n",
      "After square  : 0 - white\n",
      "Before square : 1 - yellow\n",
      "After square  : 1 - white\n",
      "Before square : 2 - green\n",
      "After square  : 2 - white\n",
      "Before square : 3 - purple\n",
      "After square  : 3 - white\n",
      "Before square : 4 - blue\n",
      "After square  : 4 - white\n",
      "['white', 'white', 'white', 'white', 'white'] : 5\n"
     ]
    }
   ],
   "source": [
    "# Use for loop to change the elements in list\n",
    "\n",
    "squares = ['red', 'yellow', 'green', 'purple', 'blue']\n",
    "print(squares, \"\\n\")\n",
    "for i in range(0, 5):\n",
    "    print(f\"Before square : {i} - {squares[i]}\")\n",
    "    squares[i] = 'white'\n",
    "    print(f\"After square  : {i} - {squares[i]}\")\n",
    "print(f\"{squares} : {len(squares)}\")\n"
   ]
  },
  {
   "cell_type": "markdown",
   "metadata": {},
   "source": [
    " We can access the index and the elements of a list as follows: \n"
   ]
  },
  {
   "cell_type": "code",
   "execution_count": 49,
   "metadata": {},
   "outputs": [
    {
     "name": "stdout",
     "output_type": "stream",
     "text": [
      "['red', 'yellow', 'green', 'purple', 'blue'] \n",
      "\n",
      "0 red\n",
      "1 yellow\n",
      "2 green\n",
      "3 purple\n",
      "4 blue\n"
     ]
    },
    {
     "data": {
      "text/plain": [
       "['red', 'yellow', 'green', 'purple', 'blue']"
      ]
     },
     "execution_count": 49,
     "metadata": {},
     "output_type": "execute_result"
    }
   ],
   "source": [
    "# Loop through the list and iterate on both index and element value\n",
    "\n",
    "squares=['red', 'yellow', 'green', 'purple', 'blue']\n",
    "print(squares, \"\\n\")\n",
    "\n",
    "for i, square in enumerate(squares):print(i, square)\n",
    "squares"
   ]
  },
  {
   "cell_type": "markdown",
   "metadata": {},
   "source": [
    "<h3 id=\"while\">What is <code>while</code> loop?</h3>\n"
   ]
  },
  {
   "cell_type": "markdown",
   "metadata": {},
   "source": [
    "As you can see, the <code>for</code> loop is used for a controlled flow of repetition. However, what if we don't know when we want to stop the loop? What if we want to keep executing a code block until a certain condition is met? The <code>while</code> loop exists as a tool for repeated execution based on a condition. The code block will keep being executed until the given logical condition returns a **False** boolean value.\n"
   ]
  },
  {
   "cell_type": "markdown",
   "metadata": {},
   "source": [
    "#### Here's how a while loop works:\n",
    "\n",
    "1. First, you specify a condition that the loop will check before each iteration (repetition) of the code block.\n",
    "2. If the condition is initially true, the code block is executed.\n",
    "3. After executing the code block, the condition is checked again.\n",
    "4. If the condition is still true, the code block is executed again.\n",
    "5. Steps 3 and 4 repeat until the condition becomes false.\n",
    "6. Once the condition becomes false, the loop stops, and the program continues with the next line of code after the loop.\n"
   ]
  },
  {
   "cell_type": "markdown",
   "metadata": {},
   "source": [
    "**Here's an example of a while loop that prints numbers from 1 to 5:**\n"
   ]
  },
  {
   "cell_type": "code",
   "execution_count": 50,
   "metadata": {},
   "outputs": [
    {
     "name": "stdout",
     "output_type": "stream",
     "text": [
      "for loop execution   : 0    1982\n",
      "for loop execution   : 1    1980\n",
      "for loop execution   : 2    1973\n",
      "for loop execution   : 3    2000\n",
      "for loop execution   : 4    2001\n",
      "for loop execution   : 5    2004\n",
      "for loop execution   : 6    2025\n",
      "\n",
      "j : 6\n",
      "second loop!\n",
      "4\n",
      "\n",
      "while loop execution : 0  1982\n",
      "while loop execution : 1  1980\n",
      "while loop execution : 2  1973\n",
      "while loop execution : 3  2000\n",
      "while loop execution : 4  2001\n",
      "while loop execution : 5  2004\n",
      "while loop execution : 6  2025\n",
      "\n",
      "dates list : [1982, 1980, 1973, 2000, 2001, 2004, 2025]         length : 7          type dates : <class 'list'>\n"
     ]
    }
   ],
   "source": [
    "\n",
    "dates = [1982, 1980, 1973, 2000, 2001, 2004, 2025]\n",
    "\n",
    "\n",
    "# if the condition iniatially true the code block is executed\n",
    "\n",
    "for (j, year) in enumerate(dates):\n",
    "    print(f\"for loop execution   : {j}    {year}\")\n",
    "    # if dates == \"2005\":\n",
    "    #     print(2005)\n",
    "\n",
    "print(f\"\\nj : {j}\\nsecond loop!\\n{i}\\n\")\n",
    "\n",
    "i = 0\n",
    "while i <=(len(dates)-1):\n",
    "    print(f\"while loop execution : {int(i)}  {dates[i]}\")\n",
    "    i += 1\n",
    "\n",
    "print(f\"\\ndates list : {dates}         length : {len(dates)}          type dates : {type(dates)}\")"
   ]
  },
  {
   "cell_type": "markdown",
   "metadata": {},
   "source": [
    "In this example, the condition **count <= 5** is checked before each iteration. As long as count is less than or equal to 5, the code block inside the loop is executed. After each iteration, the value of count is incremented by 1 using count += 1. Once count reaches 6, the condition becomes false, and the loop stops.\n"
   ]
  },
  {
   "cell_type": "markdown",
   "metadata": {},
   "source": [
    "Let’s say we would like to iterate through list <code>dates</code> and stop at the year 1973, then print out the number of iterations. This can be done with the following block of code:\n"
   ]
  },
  {
   "cell_type": "code",
   "execution_count": 51,
   "metadata": {},
   "outputs": [
    {
     "name": "stdout",
     "output_type": "stream",
     "text": [
      "\n",
      "These are the dates : [1982, 1980, 1973, 2000, 2001, 2004, 2025]\n",
      "\n",
      "Your input x : 5\n",
      "\n",
      "\n",
      "FOR - LOOP EXECUTION : \n",
      "\n",
      "j : 0  dates : year 1982\n",
      "j : 1  dates : year 1980\n",
      "j : 2  dates : year 1973\n",
      "j : 3  dates : year 2000\n",
      "j : 4  dates : year 2001\n",
      "\n",
      "\n",
      "\n",
      "WHILE - LOOP EXECUTION : \n",
      "\n",
      "i : 0  dates : year 1982\n",
      "i : 1  dates : year 1980\n",
      "i : 2  dates : year 1973\n",
      "i : 3  dates : year 2000\n",
      "i : 4  dates : year 2001\n"
     ]
    }
   ],
   "source": [
    "# While Loop Example\n",
    "\n",
    "dates = [1982, 1980, 1973, 2000, 2001, 2004, 2025]\n",
    "\n",
    "print(f\"\\nThese are the dates : {dates}\")\n",
    "# input button\n",
    "x = int(input(f\"Enter the index of value till you wanna execute this WHILE-LOOP\"))\n",
    "\n",
    "print(f\"\\nYour input x : {x}\\n\")\n",
    "\n",
    "if x<1 or x>len(dates):\n",
    "\n",
    "    print(f\"Enter a value between 1 and {len(dates)}\\t x : {x} is not valid\")\n",
    "    # 🚀 exit immediately\n",
    "else:\n",
    "    print(f\"\\nFOR - LOOP EXECUTION : \\n\")\n",
    "    for j, year in enumerate(dates): # for index, year in enumerate(dates, start=1): \n",
    "        if j == x:   # stop when i reaches x\n",
    "            break\n",
    "        print(f\"j : {j}  dates : year {year}\")\n",
    "    print(f\"\\n\")\n",
    "\n",
    "    print(f\"\\nWHILE - LOOP EXECUTION : \\n\")\n",
    "    year = dates[0]\n",
    "    i = 0\n",
    "    while(i != x):    \n",
    "        year = dates[i]\n",
    "        print(f\"i : {i}  dates : year {year}\")\n",
    "        i = i + 1"
   ]
  },
  {
   "cell_type": "markdown",
   "metadata": {},
   "source": [
    "A while loop iterates merely until the condition in the argument is not  met, as shown in the following figure:\n"
   ]
  },
  {
   "cell_type": "markdown",
   "metadata": {},
   "source": [
    "<img src=\"https://cf-courses-data.s3.us.cloud-object-storage.appdomain.cloud/IBMDeveloperSkillsNetwork-PY0101EN-SkillsNetwork/labs/Module%203/images/LoopsWhile.gif\" width=\"850\">\n"
   ]
  },
  {
   "cell_type": "markdown",
   "metadata": {},
   "source": [
    "\n",
    "**The main difference between a while loop and a for loop in Python is how they control the flow of execution and handle iterations.**\n"
   ]
  },
  {
   "cell_type": "markdown",
   "metadata": {},
   "source": [
    "### Key point of While Loop:\n",
    "\n",
    "1. A while loop repeatedly executes a block of code as long as a given condition is true.\n",
    "2. It does not have a fixed number of iterations but continues executing until the condition becomes false.\n",
    "3. The condition is checked before each iteration, and if it's false initially, the code block is skipped entirely.\n",
    "4. The condition is typically based on a variable or expression that can change during the execution of the loop.\n",
    "5. It provides more flexibility in terms of controlling the loop's execution based on dynamic conditions.\n"
   ]
  },
  {
   "cell_type": "markdown",
   "metadata": {},
   "source": [
    "### Key point of For Loop:\n",
    "\n",
    "1. A for loop iterates over a sequence (such as a list, string, or range) or any object that supports iteration.\n",
    "2. It has a predefined number of iterations based on the length of the sequence or the number of items to iterate over.\n",
    "3. It automatically handles the iteration and does not require maintaining a separate variable for tracking the iteration count.\n",
    "4. It simplifies the code by encapsulating the iteration logic within the loop itself.\n",
    "5. It is commonly used when you know the exact number of iterations or need to iterate over each item in a collection.\n"
   ]
  },
  {
   "cell_type": "markdown",
   "metadata": {},
   "source": [
    "<hr>\n"
   ]
  },
  {
   "cell_type": "markdown",
   "metadata": {},
   "source": [
    "<h2 id=\"quiz\">Practise Exercises on Loops</h2>\n"
   ]
  },
  {
   "cell_type": "markdown",
   "metadata": {},
   "source": [
    "Write a <code>for</code> loop the prints out all the element between <b>-5</b> and <b>5</b> using the range function.\n"
   ]
  },
  {
   "cell_type": "code",
   "execution_count": 52,
   "metadata": {},
   "outputs": [
    {
     "name": "stdout",
     "output_type": "stream",
     "text": [
      "i : 5 and x : [5]\n"
     ]
    },
    {
     "data": {
      "image/png": "[encoded data removed]",
      "text/plain": [
       "<Figure size 700x300 with 1 Axes>"
      ]
     },
     "metadata": {},
     "output_type": "display_data"
    }
   ],
   "source": [
    "# Write your code below and press Shift+Enter to execute\n",
    "\n",
    "\n",
    "\n",
    "\n",
    "import matplotlib.pyplot as plt\n",
    "\n",
    "a = int(input(\"Enter negative value -a : \"))\n",
    "b = int(input(\"Enter negative value +a : \"))\n",
    "\n",
    "x = list(range(a, b+1))\n",
    "plt.figure(figsize=(7,3)) #size of the plotted figure length*breadth\n",
    "plt.hlines(0, min(x)-1, max(x)+15, colors=\"black\")   # number line extra digit in this case +-1 is +6 and -6 on both side\n",
    "plt.scatter(x, [0]*len(x), color=\"green\")            # dots on the line\n",
    "\n",
    "for i in x:\n",
    "    plt.text(i, 0.1, int(i))    # labels as float\n",
    "\n",
    "# for i in range(-5,6):\n",
    "#     print(float(i))\n",
    "print(f\"i : {i} and x : {x}\")\n",
    "plt.axis()\n",
    "plt.show()"
   ]
  },
  {
   "cell_type": "markdown",
   "metadata": {},
   "source": [
    "<details><summary>Click here for the solution</summary>\n",
    "\n",
    "```python\n",
    "for i in range(-4, 5):\n",
    "    print(i)\n",
    "    \n",
    "```\n",
    "\n",
    "</details>\n"
   ]
  },
  {
   "cell_type": "markdown",
   "metadata": {},
   "source": [
    "Print the elements of the following list:\n",
    "<code>Genres=[ 'rock', 'R&B', 'Soundtrack', 'R&B', 'soul', 'pop']</code>\n",
    "Make sure you follow Python conventions.\n"
   ]
  },
  {
   "cell_type": "code",
   "execution_count": 53,
   "metadata": {},
   "outputs": [
    {
     "name": "stdout",
     "output_type": "stream",
     "text": [
      "1 :  rock\n",
      "2 :  R&B\n",
      "3 :  Soundtrack\n",
      "4 :  R&B\n",
      "5 :  soul\n",
      "6 :  pop\n"
     ]
    }
   ],
   "source": [
    "# Write your code below and press Shift+Enter to execute\n",
    "Genres=[ 'rock', 'R&B', 'Soundtrack', 'R&B', 'soul', 'pop']\n",
    "for (x, y) in enumerate(Genres, start=1):\n",
    "    print(f\"{x} :  {y}\")"
   ]
  },
  {
   "cell_type": "markdown",
   "metadata": {},
   "source": [
    "<details><summary>Click here for the solution</summary>\n",
    "\n",
    "```python\n",
    "Genres = ['rock', 'R&B', 'Soundtrack', 'R&B', 'soul', 'pop']\n",
    "for Genre in Genres:\n",
    "    print(Genre)\n",
    "    \n",
    "```\n",
    "\n",
    "</details>\n"
   ]
  },
  {
   "cell_type": "markdown",
   "metadata": {},
   "source": [
    "<hr>\n"
   ]
  },
  {
   "cell_type": "markdown",
   "metadata": {},
   "source": [
    "Write a for loop that prints out the following list: <code>squares=['red', 'yellow', 'green', 'purple', 'blue']</code>\n"
   ]
  },
  {
   "cell_type": "code",
   "execution_count": 54,
   "metadata": {},
   "outputs": [
    {
     "name": "stdout",
     "output_type": "stream",
     "text": [
      "1 :  red\n",
      "2 :  yellow\n",
      "3 :  green\n",
      "4 :  purple\n",
      "5 :  blue\n"
     ]
    },
    {
     "data": {
      "text/plain": [
       "tuple"
      ]
     },
     "execution_count": 54,
     "metadata": {},
     "output_type": "execute_result"
    }
   ],
   "source": [
    "# Write your code below and press Shift+Enter to execute\n",
    "squares=('red', 'yellow', 'green', 'purple', 'blue')\n",
    "for (x,y) in enumerate(squares, start=1):\n",
    "    print(f\"{x} :  {y}\")\n",
    "type(squares)"
   ]
  },
  {
   "cell_type": "markdown",
   "metadata": {},
   "source": [
    "<details><summary>Click here for the solution</summary>\n",
    "\n",
    "```python\n",
    "squares=['red', 'yellow', 'green', 'purple', 'blue']\n",
    "for square in squares:\n",
    "    print(square)\n",
    "    \n",
    "```\n",
    "\n",
    "</details>\n"
   ]
  },
  {
   "cell_type": "markdown",
   "metadata": {},
   "source": [
    "<hr>\n"
   ]
  },
  {
   "cell_type": "markdown",
   "metadata": {},
   "source": [
    "Write a while loop to display the values of the Rating of an album playlist stored in the list <code>PlayListRatings</code>. If the score is less than 6, exit the loop. The list <code>PlayListRatings</code> is given by: <code>PlayListRatings = [10, 9.5, 10, 8, 7.5, 5, 10, 10]\n",
    "\n",
    "</code>\n"
   ]
  },
  {
   "cell_type": "code",
   "execution_count": 55,
   "metadata": {},
   "outputs": [
    {
     "name": "stdout",
     "output_type": "stream",
     "text": [
      "10\n",
      "9.5\n",
      "10\n",
      "8\n",
      "7.5\n"
     ]
    }
   ],
   "source": [
    "# Write your code below and press Shift+Enter to execute\n",
    "\n",
    "pr = [10, 9.5, 10, 8, 7.5, 5, 10, 10]\n",
    "i = 0\n",
    "rating = pr[0]\n",
    "\n",
    "while(i < len(pr) and rating >= 6):\n",
    "    print(rating)\n",
    "    i = i + 1 \n",
    "    rating = pr[i]    \n",
    "\n",
    "\n",
    "\n",
    "\n",
    "\n",
    "# PlayListRatings = [10, 9.5, 10, 8, 7.5, 5, 10, 10, 5, 4, 6, 32, 22, 3]\n",
    "# # PlayListRatings\n",
    "# i = 0\n",
    "# rating = PlayListRatings[0] \n",
    "# while (i < len(PlayListRatings)) and rating>= 6:\n",
    "#     print(f\"{i} : {rating}\")\n",
    "#     i += 1\n",
    "# print(f\"PlayListRatings List :{PlayListRatings}\\tLength of playlist : {len(PlayListRatings)}\")\n",
    "\n",
    "# # len(PlayListRatings)"
   ]
  },
  {
   "cell_type": "markdown",
   "metadata": {},
   "source": [
    "<details><summary>Click here for the solution</summary>\n",
    "\n",
    "```python\n",
    "PlayListRatings = [10, 9.5, 10, 8, 7.5, 5, 10, 10]\n",
    "i = 0\n",
    "rating = PlayListRatings[0]\n",
    "while(i < len(PlayListRatings) and rating >= 6):\n",
    "    print(rating)\n",
    "    i = i + 1 \n",
    "    rating = PlayListRatings[i]    \n",
    "```\n",
    "\n",
    "</details>\n"
   ]
  },
  {
   "cell_type": "markdown",
   "metadata": {},
   "source": [
    "Write a while loop to copy the strings <code>'orange'</code> of the list <code>squares</code> to the list <code>new_squares</code>. Stop and exit the loop if the value on the list is not <code>'orange'</code>:\n"
   ]
  },
  {
   "cell_type": "code",
   "execution_count": 56,
   "metadata": {},
   "outputs": [
    {
     "name": "stdout",
     "output_type": "stream",
     "text": [
      "squares : ['orange', 'orange', 'orange', 'orange', 'purple', 'blue ', 'orange']\n",
      "new_squares : []\n",
      "\n",
      "0 orange\n",
      "1 orange\n",
      "2 orange\n",
      "3 orange\n",
      "new_squares : ['orange', 'orange', 'orange', 'orange']\n"
     ]
    }
   ],
   "source": [
    "# Write your code below and press Shift+Enter to execute\n",
    "\n",
    "squares = ['orange', 'orange', 'orange', 'orange', 'purple', 'blue ', 'orange']\n",
    "new_squares = []\n",
    "\n",
    "print(f\"squares : {squares}\\nnew_squares : {new_squares}\\n\")\n",
    "\n",
    "i=0\n",
    "\n",
    "while i<=len(squares) and squares[i]=='orange':\n",
    "    new_squares.append(squares[i])\n",
    "    print(f\"{i} {squares[i]}\")\n",
    "    i+=1\n",
    "\n",
    "print(f\"new_squares : {new_squares}\")\n",
    "\n"
   ]
  },
  {
   "cell_type": "markdown",
   "metadata": {},
   "source": [
    "<details><summary>Click here for the solution</summary>\n",
    "\n",
    "```python\n",
    "squares = ['orange', 'orange', 'purple', 'blue ', 'orange']\n",
    "new_squares = []\n",
    "i = 0\n",
    "while(i < len(squares) and squares[i] == 'orange'):\n",
    "    new_squares.append(squares[i])\n",
    "    i = i + 1\n",
    "print (new_squares)\n",
    "    \n",
    "```\n",
    "\n",
    "</details>\n",
    " \n"
   ]
  },
  {
   "cell_type": "markdown",
   "metadata": {},
   "source": [
    "### Some real-life problems!\n"
   ]
  },
  {
   "cell_type": "markdown",
   "metadata": {},
   "source": [
    "Your little brother has just learned multiplication tables in school. Today he has learned tables of 6 and 7. Help him memorise both the tables by printing them using <code>for</code> loop.\n"
   ]
  },
  {
   "cell_type": "code",
   "execution_count": 57,
   "metadata": {},
   "outputs": [
    {
     "name": "stdout",
     "output_type": "stream",
     "text": [
      "table is printing...........\n",
      "TABLE OF 797.379 down below between the Range X=13 -- Y=19 :\n",
      "797.379 X 13\t:  10365.927\n",
      "797.379 X 14\t:  11163.306\n",
      "797.379 X 15\t:  11960.685\n",
      "797.379 X 16\t:  12758.064\n",
      "797.379 X 17\t:  13555.443000000001\n",
      "797.379 X 18\t:  14352.822\n"
     ]
    }
   ],
   "source": [
    "# Write your code here\n",
    "\n",
    "b=float(input(\"Enter Multiplication Table Of : \"))\n",
    "print('table is printing...........')\n",
    "x=int(input(\"Starting Range X : \"))\n",
    "y=int(input(\"Ending Range Y   : \"))\n",
    "\n",
    "print(f\"TABLE OF {b} down below between the Range X={x} -- Y={y} :\") \n",
    "for i in range(x,y):\n",
    "    print(f\"{b} X {i}\\t:  {b*i}\")\n"
   ]
  },
  {
   "cell_type": "markdown",
   "metadata": {},
   "source": [
    "<details><summary>Click here for the hint</summary>\n",
    "\n",
    "Write two for loops. One to print the multiplication table of 6 and the other for 7\n",
    "\n",
    "</details>\n"
   ]
  },
  {
   "cell_type": "markdown",
   "metadata": {},
   "source": [
    "<details><summary>Click here for the solution</summary>\n",
    "\n",
    "```python\n",
    "print(\"Multiplication table of 6:\")\n",
    "for i in range (10):\n",
    "    print(\"6*\",i,\"=\",6*i)\n",
    "print(\"Multiplication table of 7:\")\n",
    "for i in range (10):\n",
    "    print(\"7*\",i,\"=\",7*i)\n",
    "    \n",
    "```\n",
    "\n",
    "</details>\n"
   ]
  },
  {
   "cell_type": "markdown",
   "metadata": {},
   "source": [
    "<hr>\n"
   ]
  },
  {
   "cell_type": "markdown",
   "metadata": {},
   "source": [
    "The following is a list of animals in a National Zoo. \n",
    "<code>Animals = [\"lion\", \"giraffe\", \"gorilla\", \"parrots\", \"crocodile\",\"deer\", \"swan\"]</code>\n",
    "\n",
    "Your brother needs to write an essay on the animals whose names are made of 7 letters. Help him find those animals through a <code>while</code> loop and create a separate list of such animals.\n"
   ]
  },
  {
   "cell_type": "code",
   "execution_count": 58,
   "metadata": {},
   "outputs": [
    {
     "name": "stdout",
     "output_type": "stream",
     "text": [
      "['giraffe', 'gorilla', 'parrots']\n"
     ]
    }
   ],
   "source": [
    "# # Write your code here\n",
    "Animals = [\"lion\", \"giraffe\", \"gorilla\", \"parrots\", \"crocodile\",\"deer\", \"swan\"]\n",
    "new = []\n",
    "i=0\n",
    "while i<len(Animals):\n",
    "    j=Animals[i]\n",
    "    if(len(j)==7):\n",
    "        new.append(j)\n",
    "    i= i + 1\n",
    "print(new)"
   ]
  },
  {
   "cell_type": "markdown",
   "metadata": {},
   "source": [
    "<details><summary>Click here for hint</summary>\n",
    "\n",
    "Use while loop to iterate over the elements of the list. Use if-else statement inside the for loop to check the length of each element and if the length is 7, add the element to a new list.\n",
    "\n",
    "</details>\n"
   ]
  },
  {
   "cell_type": "markdown",
   "metadata": {},
   "source": [
    "<details><summary>Click here for the solution</summary>\n",
    "\n",
    "```python\n",
    "\n",
    "Animals = [\"lion\", \"giraffe\", \"gorilla\", \"parrots\", \"crocodile\",\"deer\", \"swan\"]\n",
    "New = []\n",
    "i=0\n",
    "while i<len(Animals):\n",
    "    j=Animals[i]\n",
    "    if(len(j)==7):\n",
    "        New.append(j)\n",
    "    i=i+1\n",
    "print(New)\n",
    "    \n",
    "```\n",
    "\n",
    "</details>\n"
   ]
  },
  {
   "cell_type": "markdown",
   "metadata": {},
   "source": [
    "<hr>\n",
    "\n",
    "<h3>Congratulations, you have completed lab on loops<h3> \n",
    "<hr>\n"
   ]
  },
  {
   "cell_type": "code",
   "execution_count": 59,
   "metadata": {},
   "outputs": [
    {
     "name": "stdout",
     "output_type": "stream",
     "text": [
      "['red', 'yellow', 'green', 'purple', 'blue']\n",
      "['white', 'white', 'white', 'white', 'white']\n",
      "['white']\n"
     ]
    }
   ],
   "source": [
    "sq=[\"red\", \"yellow\", \"green\", \"purple\", \"blue\"]\n",
    "sqnew = []\n",
    "print(sq)\n",
    "for i in range(0,5):\n",
    "    sq[i]='white'\n",
    "    j=sq[i]\n",
    "sqnew.append(sq[i])\n",
    "print(f\"{sq}\")\n",
    "print(sqnew)"
   ]
  },
  {
   "cell_type": "code",
   "execution_count": 60,
   "metadata": {},
   "outputs": [
    {
     "name": "stdout",
     "output_type": "stream",
     "text": [
      "red\n",
      "yellow\n",
      "green\n",
      "('red', 'yellow', 'green') <class 'tuple'>\n"
     ]
    }
   ],
   "source": [
    "sq = (\"red\", \"yellow\", \"green\")\n",
    "sq1 = sq[:]\n",
    "for sq1 in sq1:\n",
    "    print(sq1)\n",
    "print(sq, type(sq))\n"
   ]
  },
  {
   "cell_type": "code",
   "execution_count": 61,
   "metadata": {},
   "outputs": [
    {
     "name": "stdout",
     "output_type": "stream",
     "text": [
      "sq : ('red', 'yellow', 'green') <class 'tuple'>\n",
      "\n",
      "1 : red\n",
      "2 : yellow\n",
      "3 : green\n",
      "\n",
      "sq : ('red', 'yellow', 'green') <class 'tuple'>\n"
     ]
    }
   ],
   "source": [
    "\n",
    "print(f\"sq : {sq} {type(sq)}\\n\")\n",
    "for (i,x) in enumerate(sq, start=1):\n",
    "    print(f\"{i} : {x}\")\n",
    "print(f\"\\nsq : {sq} {type(sq)}\")"
   ]
  },
  {
   "cell_type": "code",
   "execution_count": 62,
   "metadata": {},
   "outputs": [
    {
     "name": "stdout",
     "output_type": "stream",
     "text": [
      "AA\n",
      "BA\n",
      "CA\n"
     ]
    }
   ],
   "source": [
    "list = ['A', 'B', 'C']\n",
    "for x in list:\n",
    "    print(x + 'A')"
   ]
  },
  {
   "cell_type": "code",
   "execution_count": 63,
   "metadata": {},
   "outputs": [
    {
     "name": "stdout",
     "output_type": "stream",
     "text": [
      "11\n"
     ]
    }
   ],
   "source": [
    "def add1(a):\n",
    "    b=a+1\n",
    "    print(b)\n",
    "    \n",
    "s=add1(10)"
   ]
  },
  {
   "cell_type": "code",
   "execution_count": 64,
   "metadata": {},
   "outputs": [
    {
     "name": "stdout",
     "output_type": "stream",
     "text": [
      "Hello, Piyush Tiwari!\n"
     ]
    },
    {
     "data": {
      "text/plain": [
       "function"
      ]
     },
     "execution_count": 64,
     "metadata": {},
     "output_type": "execute_result"
    }
   ],
   "source": [
    "# name=str(input(\"Enter your name here: \"))\n",
    "def greet(name):\n",
    "    return \"Hello, \" + name + \"!\"\n",
    "a=greet(\"Piyush Tiwari\")\n",
    "print(a)\n",
    "type(greet)"
   ]
  },
  {
   "cell_type": "code",
   "execution_count": 65,
   "metadata": {},
   "outputs": [
    {
     "name": "stdout",
     "output_type": "stream",
     "text": [
      "12\n"
     ]
    }
   ],
   "source": [
    "def multiply(a, b):\n",
    "    \"\"\"\n",
    "    This function multiplies two numbers.\n",
    "    Input: a (number), b (number)\n",
    "    Output: Product of a and b 6.\n",
    "    \"\"\"\n",
    "    print(a * b)\n",
    "multiply(2,6)\n"
   ]
  },
  {
   "cell_type": "code",
   "execution_count": 66,
   "metadata": {},
   "outputs": [
    {
     "name": "stdout",
     "output_type": "stream",
     "text": [
      "[]\n",
      "88\n"
     ]
    },
    {
     "data": {
      "text/plain": [
       "['55']"
      ]
     },
     "execution_count": 66,
     "metadata": {},
     "output_type": "execute_result"
    }
   ],
   "source": [
    "myList = []\n",
    "print(myList)\n",
    "myList = [(input(\"enter your input here : \"))]\n",
    "def newFn(names):\n",
    "    for names in names:\n",
    "        print(names)\n",
    "result = newFn(myList)\n",
    "myList = [(input(\"enter your input here : \"))]\n",
    "myList"
   ]
  },
  {
   "cell_type": "code",
   "execution_count": 67,
   "metadata": {},
   "outputs": [
    {
     "name": "stdout",
     "output_type": "stream",
     "text": [
      "xyzjbvjdbv - DC\n"
     ]
    }
   ],
   "source": [
    "# x = \"AC\"\n",
    "def AddDC(x):\n",
    "    x = x + \"DC\"\n",
    "    print(x)\n",
    "    return x\n",
    "x=\"xyzjbvjdbv - \"\n",
    "z = AddDC(x)"
   ]
  },
  {
   "cell_type": "code",
   "execution_count": 68,
   "metadata": {},
   "outputs": [
    {
     "name": "stdout",
     "output_type": "stream",
     "text": [
      "ratings + y = 3\n",
      "ratings value inside the function : 1\n",
      "value of y within a function acdc : 2\n",
      "value of ratings outside the function : 9\n"
     ]
    }
   ],
   "source": [
    "ratings = 9\n",
    "\n",
    "def acdc(y, ratings):\n",
    "# if there's no similar variable inside the function in this case\n",
    "# acdc = funtion() then in the particular case python will look for the\n",
    "# variable outside of the function \n",
    "    print(f\"ratings + y = {ratings+y}\")\n",
    "    print(f\"ratings value inside the function : {ratings}\")\n",
    "    print(f\"value of y within a function acdc : {y}\")\n",
    "    return(f\"{ratings+y}\")\n",
    "Z=acdc(2, 1)\n",
    "print(f\"value of ratings outside the function : {ratings}\")\n"
   ]
  }
 ],
 "metadata": {
  "kernelspec": {
   "display_name": "Python 3",
   "language": "python",
   "name": "python3"
  },
  "language_info": {
   "codemirror_mode": {
    "name": "ipython",
    "version": 3
   },
   "file_extension": ".py",
   "mimetype": "text/x-python",
   "name": "python",
   "nbconvert_exporter": "python",
   "pygments_lexer": "ipython3",
   "version": "3.10.11"
  }
 },
 "nbformat": 4,
 "nbformat_minor": 4
}
